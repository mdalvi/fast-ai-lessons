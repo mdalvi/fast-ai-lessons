{
 "cells": [
  {
   "cell_type": "markdown",
   "metadata": {},
   "source": [
    "# Kaggle MNIST with fastai"
   ]
  },
  {
   "cell_type": "code",
   "execution_count": 1,
   "metadata": {},
   "outputs": [],
   "source": [
    "%reload_ext autoreload\n",
    "%autoreload 2\n",
    "%matplotlib inline"
   ]
  },
  {
   "cell_type": "code",
   "execution_count": 18,
   "metadata": {},
   "outputs": [],
   "source": [
    "import os\n",
    "import numpy as np\n",
    "import pandas as pd\n",
    "\n",
    "from glob import glob\n",
    "from pathlib import Path\n",
    "\n",
    "from tqdm.auto import tqdm\n",
    "from tqdm import tqdm_notebook\n",
    "tqdm.pandas()\n",
    "\n",
    "from skimage import img_as_int, img_as_uint, img_as_ubyte\n",
    "from skimage.io import imshow, imsave\n",
    "\n",
    "from fastai.vision import models as vision_models\n",
    "from fastai.vision.data import ImageDataBunch\n",
    "from fastai.vision.learner import cnn_learner\n",
    "from fastai.metrics import error_rate, accuracy\n",
    "\n",
    "NUM_CORES = 4\n",
    "CSV_DATA_PATH = Path(os.path.join('data', 'mnist'))\n",
    "IMAGE_DATA_PATH = CSV_DATA_PATH/'images'"
   ]
  },
  {
   "cell_type": "markdown",
   "metadata": {},
   "source": [
    "### Unloading dataset"
   ]
  },
  {
   "cell_type": "code",
   "execution_count": 3,
   "metadata": {},
   "outputs": [
    {
     "data": {
      "text/plain": [
       "((42000, 785), (28000, 784))"
      ]
     },
     "execution_count": 3,
     "metadata": {},
     "output_type": "execute_result"
    }
   ],
   "source": [
    "df_train = pd.read_csv(CSV_DATA_PATH/'train.csv')\n",
    "df_test = pd.read_csv(CSV_DATA_PATH/'test.csv')\n",
    "df_train.shape, df_test.shape"
   ]
  },
  {
   "cell_type": "code",
   "execution_count": 5,
   "metadata": {},
   "outputs": [
    {
     "data": {
      "application/vnd.jupyter.widget-view+json": {
       "model_id": "a75fd497d6174e3c977369660d3f85cf",
       "version_major": 2,
       "version_minor": 0
      },
      "text/plain": [
       "HBox(children=(IntProgress(value=0, max=42000), HTML(value='')))"
      ]
     },
     "metadata": {},
     "output_type": "display_data"
    },
    {
     "name": "stdout",
     "output_type": "stream",
     "text": [
      "\n"
     ]
    },
    {
     "data": {
      "application/vnd.jupyter.widget-view+json": {
       "model_id": "a2a11ec01ec94c9bb1e995de3bcfa6ba",
       "version_major": 2,
       "version_minor": 0
      },
      "text/plain": [
       "HBox(children=(IntProgress(value=0, max=28000), HTML(value='')))"
      ]
     },
     "metadata": {},
     "output_type": "display_data"
    },
    {
     "name": "stdout",
     "output_type": "stream",
     "text": [
      "\n"
     ]
    }
   ],
   "source": [
    "np.random.seed(21)\n",
    "\n",
    "for sub_folder in ['train', 'valid', 'test']:\n",
    "    if not os.path.isdir(IMAGE_DATA_PATH/sub_folder):\n",
    "        os.mkdir(IMAGE_DATA_PATH/sub_folder)\n",
    "        \n",
    "def unload_images(df, valid_pct=0.2):\n",
    "    \n",
    "    columns_pixel = [\"pixel{}\".format(i) for i in range(784)]\n",
    "    for row_idx in tqdm_notebook(range(df.shape[0])):\n",
    "        if 'label' in df.columns:\n",
    "            label = str(df.loc[row_idx, 'label'])\n",
    "            \n",
    "            if np.random.random() < valid_pct:\n",
    "                img_path = IMAGE_DATA_PATH/'valid'/label\n",
    "                if not os.path.isdir(img_path):\n",
    "                    os.mkdir(img_path)\n",
    "            else:\n",
    "                img_path = IMAGE_DATA_PATH/'train'/label\n",
    "                if not os.path.isdir(img_path):\n",
    "                    os.mkdir(img_path)\n",
    "                    \n",
    "            imsave((img_path/\"{}.jpg\".format(row_idx)).__str__(), img_as_ubyte(df.loc[row_idx, columns_pixel].values.reshape((28, 28)).astype('uint8')), check_contrast=False)\n",
    "        else:\n",
    "            imsave((IMAGE_DATA_PATH/'test'/\"{}.jpg\".format(row_idx)).__str__(), img_as_ubyte(df.loc[row_idx, columns_pixel].values.reshape((28, 28)).astype('uint8')), check_contrast=False)\n",
    "                \n",
    "unload_images(df_train)\n",
    "unload_images(df_test)"
   ]
  },
  {
   "cell_type": "markdown",
   "metadata": {},
   "source": [
    "### Loading dataset"
   ]
  },
  {
   "cell_type": "code",
   "execution_count": 12,
   "metadata": {},
   "outputs": [],
   "source": [
    "dataset = ImageDataBunch.from_folder(IMAGE_DATA_PATH, test='test', bs=64)"
   ]
  },
  {
   "cell_type": "code",
   "execution_count": 13,
   "metadata": {},
   "outputs": [
    {
     "data": {
      "text/plain": [
       "ImageDataBunch;\n",
       "\n",
       "Train: LabelList (33660 items)\n",
       "x: ImageList\n",
       "Image (3, 28, 28),Image (3, 28, 28),Image (3, 28, 28),Image (3, 28, 28),Image (3, 28, 28)\n",
       "y: CategoryList\n",
       "0,0,0,0,0\n",
       "Path: data\\mnist\\images;\n",
       "\n",
       "Valid: LabelList (8340 items)\n",
       "x: ImageList\n",
       "Image (3, 28, 28),Image (3, 28, 28),Image (3, 28, 28),Image (3, 28, 28),Image (3, 28, 28)\n",
       "y: CategoryList\n",
       "0,0,0,0,0\n",
       "Path: data\\mnist\\images;\n",
       "\n",
       "Test: LabelList (28000 items)\n",
       "x: ImageList\n",
       "Image (3, 28, 28),Image (3, 28, 28),Image (3, 28, 28),Image (3, 28, 28),Image (3, 28, 28)\n",
       "y: EmptyLabelList\n",
       ",,,,\n",
       "Path: data\\mnist\\images"
      ]
     },
     "execution_count": 13,
     "metadata": {},
     "output_type": "execute_result"
    }
   ],
   "source": [
    "dataset"
   ]
  },
  {
   "cell_type": "code",
   "execution_count": 14,
   "metadata": {},
   "outputs": [
    {
     "data": {
      "image/png": "[encoded data removed]",
      "text/plain": [
       "<Figure size 576x576 with 9 Axes>"
      ]
     },
     "metadata": {
      "needs_background": "light"
     },
     "output_type": "display_data"
    }
   ],
   "source": [
    "dataset.show_batch(rows=3, figsize=(8, 8))"
   ]
  },
  {
   "cell_type": "code",
   "execution_count": 15,
   "metadata": {},
   "outputs": [
    {
     "name": "stdout",
     "output_type": "stream",
     "text": [
      "['0', '1', '2', '3', '4', '5', '6', '7', '8', '9']\n"
     ]
    }
   ],
   "source": [
    "print(dataset.classes)"
   ]
  },
  {
   "cell_type": "code",
   "execution_count": 16,
   "metadata": {},
   "outputs": [
    {
     "name": "stdout",
     "output_type": "stream",
     "text": [
      "10\n"
     ]
    }
   ],
   "source": [
    "print(dataset.c)"
   ]
  },
  {
   "cell_type": "markdown",
   "metadata": {},
   "source": [
    "### Training Model"
   ]
  },
  {
   "cell_type": "code",
   "execution_count": 19,
   "metadata": {},
   "outputs": [
    {
     "name": "stderr",
     "output_type": "stream",
     "text": [
      "Downloading: \"https://download.pytorch.org/models/resnet34-333f7ec4.pth\" to C:\\Users\\Milind Dalvi/.cache\\torch\\checkpoints\\resnet34-333f7ec4.pth\n",
      "100%|█████████████████████████████████████████████████████████████████████████████| 83.3M/83.3M [00:32<00:00, 2.69MB/s]\n"
     ]
    }
   ],
   "source": [
    "learn = cnn_learner(dataset, vision_models.resnet34, metrics=[accuracy, error_rate])"
   ]
  },
  {
   "cell_type": "code",
   "execution_count": 20,
   "metadata": {},
   "outputs": [
    {
     "data": {
      "text/html": [
       "\n",
       "    <div>\n",
       "        <style>\n",
       "            /* Turns off some styling */\n",
       "            progress {\n",
       "                /* gets rid of default border in Firefox and Opera. */\n",
       "                border: none;\n",
       "                /* Needs to be in here for Safari polyfill so background images work as expected. */\n",
       "                background-size: auto;\n",
       "            }\n",
       "            .progress-bar-interrupted, .progress-bar-interrupted::-webkit-progress-bar {\n",
       "                background: #F44336;\n",
       "            }\n",
       "        </style>\n",
       "      <progress value='0' class='' max='4', style='width:300px; height:20px; vertical-align: middle;'></progress>\n",
       "      0.00% [0/4 00:00<00:00]\n",
       "    </div>\n",
       "    \n",
       "<table border=\"1\" class=\"dataframe\">\n",
       "  <thead>\n",
       "    <tr style=\"text-align: left;\">\n",
       "      <th>epoch</th>\n",
       "      <th>train_loss</th>\n",
       "      <th>valid_loss</th>\n",
       "      <th>accuracy</th>\n",
       "      <th>error_rate</th>\n",
       "      <th>time</th>\n",
       "    </tr>\n",
       "  </thead>\n",
       "  <tbody>\n",
       "  </tbody>\n",
       "</table><p>\n",
       "\n",
       "    <div>\n",
       "        <style>\n",
       "            /* Turns off some styling */\n",
       "            progress {\n",
       "                /* gets rid of default border in Firefox and Opera. */\n",
       "                border: none;\n",
       "                /* Needs to be in here for Safari polyfill so background images work as expected. */\n",
       "                background-size: auto;\n",
       "            }\n",
       "            .progress-bar-interrupted, .progress-bar-interrupted::-webkit-progress-bar {\n",
       "                background: #F44336;\n",
       "            }\n",
       "        </style>\n",
       "      <progress value='0' class='progress-bar-interrupted' max='525', style='width:300px; height:20px; vertical-align: middle;'></progress>\n",
       "      Interrupted\n",
       "    </div>\n",
       "    "
      ],
      "text/plain": [
       "<IPython.core.display.HTML object>"
      ]
     },
     "metadata": {},
     "output_type": "display_data"
    },
    {
     "name": "stderr",
     "output_type": "stream",
     "text": [
      "Exception ignored in: <function _MultiProcessingDataLoaderIter.__del__ at 0x000002483B46FBF8>\n",
      "Traceback (most recent call last):\n",
      "  File \"e:\\Miniconda3\\lib\\site-packages\\torch\\utils\\data\\dataloader.py\", line 926, in __del__\n",
      "    self._shutdown_workers()\n",
      "  File \"e:\\Miniconda3\\lib\\site-packages\\torch\\utils\\data\\dataloader.py\", line 906, in _shutdown_workers\n",
      "    w.join()\n",
      "  File \"e:\\Miniconda3\\lib\\multiprocessing\\process.py\", line 140, in join\n",
      "    res = self._popen.wait(timeout)\n",
      "  File \"e:\\Miniconda3\\lib\\multiprocessing\\popen_spawn_win32.py\", line 104, in wait\n",
      "    res = _winapi.WaitForSingleObject(int(self._handle), msecs)\n",
      "KeyboardInterrupt: \n",
      "ERROR:root:Internal Python error in the inspect module.\n",
      "Below is the traceback from this internal error.\n",
      "\n"
     ]
    },
    {
     "name": "stdout",
     "output_type": "stream",
     "text": [
      "Traceback (most recent call last):\n",
      "  File \"e:\\Miniconda3\\lib\\site-packages\\IPython\\core\\interactiveshell.py\", line 3326, in run_code\n",
      "    exec(code_obj, self.user_global_ns, self.user_ns)\n",
      "  File \"<ipython-input-20-495233eaf2b4>\", line 1, in <module>\n",
      "    learn.fit_one_cycle(4)\n",
      "  File \"e:\\Miniconda3\\lib\\site-packages\\fastai\\train.py\", line 22, in fit_one_cycle\n",
      "    learn.fit(cyc_len, max_lr, wd=wd, callbacks=callbacks)\n",
      "  File \"e:\\Miniconda3\\lib\\site-packages\\fastai\\basic_train.py\", line 202, in fit\n",
      "    fit(epochs, self, metrics=self.metrics, callbacks=self.callbacks+callbacks)\n",
      "  File \"e:\\Miniconda3\\lib\\site-packages\\fastai\\basic_train.py\", line 101, in fit\n",
      "    loss = loss_batch(learn.model, xb, yb, learn.loss_func, learn.opt, cb_handler)\n",
      "  File \"e:\\Miniconda3\\lib\\site-packages\\fastai\\basic_train.py\", line 26, in loss_batch\n",
      "    out = model(*xb)\n",
      "  File \"e:\\Miniconda3\\lib\\site-packages\\torch\\nn\\modules\\module.py\", line 547, in __call__\n",
      "    result = self.forward(*input, **kwargs)\n",
      "  File \"e:\\Miniconda3\\lib\\site-packages\\torch\\nn\\modules\\container.py\", line 92, in forward\n",
      "    input = module(input)\n",
      "  File \"e:\\Miniconda3\\lib\\site-packages\\torch\\nn\\modules\\module.py\", line 547, in __call__\n",
      "    result = self.forward(*input, **kwargs)\n",
      "  File \"e:\\Miniconda3\\lib\\site-packages\\torch\\nn\\modules\\container.py\", line 92, in forward\n",
      "    input = module(input)\n",
      "  File \"e:\\Miniconda3\\lib\\site-packages\\torch\\nn\\modules\\module.py\", line 547, in __call__\n",
      "    result = self.forward(*input, **kwargs)\n",
      "  File \"e:\\Miniconda3\\lib\\site-packages\\torch\\nn\\modules\\container.py\", line 92, in forward\n",
      "    input = module(input)\n",
      "  File \"e:\\Miniconda3\\lib\\site-packages\\torch\\nn\\modules\\module.py\", line 547, in __call__\n",
      "    result = self.forward(*input, **kwargs)\n",
      "  File \"e:\\Miniconda3\\lib\\site-packages\\torchvision\\models\\resnet.py\", line 63, in forward\n",
      "    out = self.conv2(out)\n",
      "  File \"e:\\Miniconda3\\lib\\site-packages\\torch\\nn\\modules\\module.py\", line 547, in __call__\n",
      "    result = self.forward(*input, **kwargs)\n",
      "  File \"e:\\Miniconda3\\lib\\site-packages\\torch\\nn\\modules\\conv.py\", line 343, in forward\n",
      "    return self.conv2d_forward(input, self.weight)\n",
      "  File \"e:\\Miniconda3\\lib\\site-packages\\torch\\nn\\modules\\conv.py\", line 340, in conv2d_forward\n",
      "    self.padding, self.dilation, self.groups)\n",
      "KeyboardInterrupt\n",
      "\n",
      "During handling of the above exception, another exception occurred:\n",
      "\n",
      "Traceback (most recent call last):\n",
      "  File \"e:\\Miniconda3\\lib\\site-packages\\IPython\\core\\interactiveshell.py\", line 2040, in showtraceback\n",
      "    stb = value._render_traceback_()\n",
      "AttributeError: 'KeyboardInterrupt' object has no attribute '_render_traceback_'\n",
      "\n",
      "During handling of the above exception, another exception occurred:\n",
      "\n",
      "Traceback (most recent call last):\n",
      "  File \"e:\\Miniconda3\\lib\\site-packages\\IPython\\core\\ultratb.py\", line 1101, in get_records\n",
      "    return _fixed_getinnerframes(etb, number_of_lines_of_context, tb_offset)\n",
      "  File \"e:\\Miniconda3\\lib\\site-packages\\IPython\\core\\ultratb.py\", line 319, in wrapped\n",
      "    return f(*args, **kwargs)\n",
      "  File \"e:\\Miniconda3\\lib\\site-packages\\IPython\\core\\ultratb.py\", line 353, in _fixed_getinnerframes\n",
      "    records = fix_frame_records_filenames(inspect.getinnerframes(etb, context))\n",
      "  File \"e:\\Miniconda3\\lib\\inspect.py\", line 1502, in getinnerframes\n",
      "    frameinfo = (tb.tb_frame,) + getframeinfo(tb, context)\n",
      "  File \"e:\\Miniconda3\\lib\\inspect.py\", line 1464, in getframeinfo\n",
      "    lines, lnum = findsource(frame)\n",
      "  File \"e:\\Miniconda3\\lib\\site-packages\\IPython\\core\\ultratb.py\", line 173, in findsource\n",
      "    file = getsourcefile(object) or getfile(object)\n",
      "  File \"e:\\Miniconda3\\lib\\inspect.py\", line 693, in getsourcefile\n",
      "    if os.path.exists(filename):\n",
      "  File \"e:\\Miniconda3\\lib\\genericpath.py\", line 19, in exists\n",
      "    os.stat(path)\n",
      "KeyboardInterrupt\n"
     ]
    },
    {
     "ename": "KeyboardInterrupt",
     "evalue": "",
     "output_type": "error",
     "traceback": [
      "\u001b[1;31m---------------------------------------------------------------------------\u001b[0m"
     ]
    }
   ],
   "source": [
    "learn.fit_one_cycle(4)"
   ]
  },
  {
   "cell_type": "code",
   "execution_count": null,
   "metadata": {},
   "outputs": [],
   "source": []
  }
 ],
 "metadata": {
  "kernelspec": {
   "display_name": "Python 3",
   "language": "python",
   "name": "python3"
  },
  "language_info": {
   "codemirror_mode": {
    "name": "ipython",
    "version": 3
   },
   "file_extension": ".py",
   "mimetype": "text/x-python",
   "name": "python",
   "nbconvert_exporter": "python",
   "pygments_lexer": "ipython3",
   "version": "3.7.3"
  }
 },
 "nbformat": 4,
 "nbformat_minor": 2
}
