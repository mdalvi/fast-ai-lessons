{
 "cells": [
  {
   "cell_type": "markdown",
   "metadata": {},
   "source": [
    "# Kaggle MNIST with fastai"
   ]
  },
  {
   "cell_type": "code",
   "execution_count": 1,
   "metadata": {},
   "outputs": [],
   "source": [
    "%reload_ext autoreload\n",
    "%autoreload 2\n",
    "%matplotlib inline"
   ]
  },
  {
   "cell_type": "code",
   "execution_count": 178,
   "metadata": {},
   "outputs": [],
   "source": [
    "import os\n",
    "import numpy as np\n",
    "import pandas as pd\n",
    "\n",
    "from glob import glob\n",
    "from pathlib import Path\n",
    "from collections import Counter\n",
    "\n",
    "import torch\n",
    "\n",
    "from tqdm.auto import tqdm\n",
    "from tqdm import tqdm_notebook\n",
    "tqdm.pandas()\n",
    "\n",
    "from skimage import img_as_int, img_as_uint, img_as_ubyte\n",
    "from skimage.io import imshow, imsave\n",
    "\n",
    "# For training\n",
    "from fastai.vision import imagenet_stats\n",
    "from fastai.vision import models as vision_models\n",
    "from fastai.vision.data import ImageDataBunch, ImageList\n",
    "from fastai.vision.learner import cnn_learner\n",
    "from fastai.vision.transform import get_transforms\n",
    "from fastai.metrics import error_rate, accuracy\n",
    "\n",
    "# For interpretation\n",
    "from fastai.train import ClassificationInterpretation\n",
    "\n",
    "# For predictions\n",
    "from fastai.basic_data import DatasetType\n",
    "from fastai.basic_train import load_learner\n",
    "\n",
    "NUM_CORES = 4\n",
    "CSV_DATA_PATH = Path(os.path.join('data', 'mnist'))\n",
    "IMAGE_DATA_PATH = CSV_DATA_PATH/'images'"
   ]
  },
  {
   "cell_type": "markdown",
   "metadata": {},
   "source": [
    "### Unloading dataset\n",
    "\n",
    "Execute following kaggle command to download the data under CSV_DATA_PATH\n",
    "\n",
    "* kaggle competitions download -c digit-recognizer"
   ]
  },
  {
   "cell_type": "code",
   "execution_count": 3,
   "metadata": {},
   "outputs": [
    {
     "data": {
      "text/plain": [
       "((42000, 785), (28000, 784))"
      ]
     },
     "execution_count": 3,
     "metadata": {},
     "output_type": "execute_result"
    }
   ],
   "source": [
    "df_train = pd.read_csv(CSV_DATA_PATH/'train.csv')\n",
    "df_test = pd.read_csv(CSV_DATA_PATH/'test.csv')\n",
    "df_train.shape, df_test.shape"
   ]
  },
  {
   "cell_type": "code",
   "execution_count": 4,
   "metadata": {},
   "outputs": [
    {
     "data": {
      "application/vnd.jupyter.widget-view+json": {
       "model_id": "28bbd44aa61748b7b1b8d191e87f1764",
       "version_major": 2,
       "version_minor": 0
      },
      "text/plain": [
       "HBox(children=(IntProgress(value=0, max=42000), HTML(value='')))"
      ]
     },
     "metadata": {},
     "output_type": "display_data"
    },
    {
     "name": "stdout",
     "output_type": "stream",
     "text": [
      "\n"
     ]
    },
    {
     "data": {
      "application/vnd.jupyter.widget-view+json": {
       "model_id": "caffd37fb871480d82c362dbfbf9083e",
       "version_major": 2,
       "version_minor": 0
      },
      "text/plain": [
       "HBox(children=(IntProgress(value=0, max=28000), HTML(value='')))"
      ]
     },
     "metadata": {},
     "output_type": "display_data"
    },
    {
     "name": "stdout",
     "output_type": "stream",
     "text": [
      "\n"
     ]
    }
   ],
   "source": [
    "np.random.seed(21)\n",
    "\n",
    "for sub_folder in ['train', 'valid', 'test']:\n",
    "    if not os.path.isdir(IMAGE_DATA_PATH/sub_folder):\n",
    "        os.mkdir(IMAGE_DATA_PATH/sub_folder)\n",
    "        \n",
    "def unload_images(df, valid_pct=0.2):\n",
    "    \n",
    "    columns_pixel = [\"pixel{}\".format(i) for i in range(784)]\n",
    "    for row_idx in tqdm_notebook(range(df.shape[0])):\n",
    "        image_ = img_as_ubyte(df.loc[row_idx, columns_pixel].values.reshape((28, 28)).astype('uint8'))\n",
    "        \n",
    "        if 'label' in df.columns:\n",
    "            label = str(df.loc[row_idx, 'label'])\n",
    "            \n",
    "            if np.random.random() < valid_pct:\n",
    "                img_path = IMAGE_DATA_PATH/'valid'/label\n",
    "                if not os.path.isdir(img_path):\n",
    "                    os.mkdir(img_path)\n",
    "            else:\n",
    "                img_path = IMAGE_DATA_PATH/'train'/label\n",
    "                if not os.path.isdir(img_path):\n",
    "                    os.mkdir(img_path)\n",
    "                    \n",
    "            imsave((img_path/\"{}.jpg\".format(row_idx)).__str__(), image_, check_contrast=False)\n",
    "        else:\n",
    "            imsave((IMAGE_DATA_PATH/'test'/\"{}.jpg\".format(row_idx)).__str__(), image_, check_contrast=False)\n",
    "                \n",
    "unload_images(df_train)\n",
    "unload_images(df_test)"
   ]
  },
  {
   "cell_type": "markdown",
   "metadata": {},
   "source": [
    "### Loading dataset"
   ]
  },
  {
   "cell_type": "code",
   "execution_count": 183,
   "metadata": {},
   "outputs": [],
   "source": [
    "dataset = ImageDataBunch.from_folder(IMAGE_DATA_PATH, test='test', bs=64).normalize(imagenet_stats)"
   ]
  },
  {
   "cell_type": "code",
   "execution_count": 184,
   "metadata": {},
   "outputs": [
    {
     "data": {
      "text/plain": [
       "ImageDataBunch;\n",
       "\n",
       "Train: LabelList (33660 items)\n",
       "x: ImageList\n",
       "Image (3, 28, 28),Image (3, 28, 28),Image (3, 28, 28),Image (3, 28, 28),Image (3, 28, 28)\n",
       "y: CategoryList\n",
       "4,4,4,4,4\n",
       "Path: data/mnist/images;\n",
       "\n",
       "Valid: LabelList (8340 items)\n",
       "x: ImageList\n",
       "Image (3, 28, 28),Image (3, 28, 28),Image (3, 28, 28),Image (3, 28, 28),Image (3, 28, 28)\n",
       "y: CategoryList\n",
       "4,4,4,4,4\n",
       "Path: data/mnist/images;\n",
       "\n",
       "Test: LabelList (28000 items)\n",
       "x: ImageList\n",
       "Image (3, 28, 28),Image (3, 28, 28),Image (3, 28, 28),Image (3, 28, 28),Image (3, 28, 28)\n",
       "y: EmptyLabelList\n",
       ",,,,\n",
       "Path: data/mnist/images"
      ]
     },
     "execution_count": 184,
     "metadata": {},
     "output_type": "execute_result"
    }
   ],
   "source": [
    "dataset"
   ]
  },
  {
   "cell_type": "code",
   "execution_count": 15,
   "metadata": {},
   "outputs": [
    {
     "data": {
      "image/png": "[encoded data removed]",
      "text/plain": [
       "<Figure size 288x288 with 9 Axes>"
      ]
     },
     "metadata": {
      "needs_background": "light"
     },
     "output_type": "display_data"
    }
   ],
   "source": [
    "dataset.show_batch(rows=3, figsize=(4, 4))"
   ]
  },
  {
   "cell_type": "code",
   "execution_count": 16,
   "metadata": {},
   "outputs": [
    {
     "name": "stdout",
     "output_type": "stream",
     "text": [
      "['0', '1', '2', '3', '4', '5', '6', '7', '8', '9']\n"
     ]
    }
   ],
   "source": [
    "print(dataset.classes)"
   ]
  },
  {
   "cell_type": "code",
   "execution_count": 17,
   "metadata": {},
   "outputs": [
    {
     "name": "stdout",
     "output_type": "stream",
     "text": [
      "10\n"
     ]
    }
   ],
   "source": [
    "print(dataset.c)"
   ]
  },
  {
   "cell_type": "markdown",
   "metadata": {},
   "source": [
    "### Training Model"
   ]
  },
  {
   "cell_type": "code",
   "execution_count": 181,
   "metadata": {},
   "outputs": [],
   "source": [
    "learn = cnn_learner(dataset, vision_models.resnet34, metrics=[accuracy, error_rate])"
   ]
  },
  {
   "cell_type": "code",
   "execution_count": 19,
   "metadata": {},
   "outputs": [
    {
     "data": {
      "text/html": [
       "<table border=\"1\" class=\"dataframe\">\n",
       "  <thead>\n",
       "    <tr style=\"text-align: left;\">\n",
       "      <th>epoch</th>\n",
       "      <th>train_loss</th>\n",
       "      <th>valid_loss</th>\n",
       "      <th>accuracy</th>\n",
       "      <th>error_rate</th>\n",
       "      <th>time</th>\n",
       "    </tr>\n",
       "  </thead>\n",
       "  <tbody>\n",
       "    <tr>\n",
       "      <td>0</td>\n",
       "      <td>0.935373</td>\n",
       "      <td>0.664884</td>\n",
       "      <td>0.791727</td>\n",
       "      <td>0.208273</td>\n",
       "      <td>00:41</td>\n",
       "    </tr>\n",
       "    <tr>\n",
       "      <td>1</td>\n",
       "      <td>0.465868</td>\n",
       "      <td>0.314397</td>\n",
       "      <td>0.900839</td>\n",
       "      <td>0.099161</td>\n",
       "      <td>00:41</td>\n",
       "    </tr>\n",
       "    <tr>\n",
       "      <td>2</td>\n",
       "      <td>0.264967</td>\n",
       "      <td>0.185237</td>\n",
       "      <td>0.941966</td>\n",
       "      <td>0.058034</td>\n",
       "      <td>00:41</td>\n",
       "    </tr>\n",
       "    <tr>\n",
       "      <td>3</td>\n",
       "      <td>0.196934</td>\n",
       "      <td>0.134004</td>\n",
       "      <td>0.958153</td>\n",
       "      <td>0.041847</td>\n",
       "      <td>00:42</td>\n",
       "    </tr>\n",
       "    <tr>\n",
       "      <td>4</td>\n",
       "      <td>0.135325</td>\n",
       "      <td>0.109522</td>\n",
       "      <td>0.965108</td>\n",
       "      <td>0.034892</td>\n",
       "      <td>00:42</td>\n",
       "    </tr>\n",
       "    <tr>\n",
       "      <td>5</td>\n",
       "      <td>0.130350</td>\n",
       "      <td>0.109374</td>\n",
       "      <td>0.965947</td>\n",
       "      <td>0.034053</td>\n",
       "      <td>00:40</td>\n",
       "    </tr>\n",
       "  </tbody>\n",
       "</table>"
      ],
      "text/plain": [
       "<IPython.core.display.HTML object>"
      ]
     },
     "metadata": {},
     "output_type": "display_data"
    }
   ],
   "source": [
    "learn.fit_one_cycle(6)"
   ]
  },
  {
   "cell_type": "code",
   "execution_count": 20,
   "metadata": {},
   "outputs": [],
   "source": [
    "learn.save('resnet34_mnist', return_path=True)"
   ]
  },
  {
   "cell_type": "code",
   "execution_count": 21,
   "metadata": {},
   "outputs": [
    {
     "name": "stderr",
     "output_type": "stream",
     "text": [
      "Downloading: \"https://download.pytorch.org/models/resnet18-5c106cde.pth\" to /home/ubuntu/.cache/torch/checkpoints/resnet18-5c106cde.pth\n",
      "100%|██████████| 44.7M/44.7M [00:01<00:00, 23.9MB/s]\n"
     ]
    }
   ],
   "source": [
    "learn = cnn_learner(dataset, vision_models.resnet18, metrics=[accuracy, error_rate])"
   ]
  },
  {
   "cell_type": "code",
   "execution_count": 22,
   "metadata": {},
   "outputs": [
    {
     "data": {
      "text/html": [
       "<table border=\"1\" class=\"dataframe\">\n",
       "  <thead>\n",
       "    <tr style=\"text-align: left;\">\n",
       "      <th>epoch</th>\n",
       "      <th>train_loss</th>\n",
       "      <th>valid_loss</th>\n",
       "      <th>accuracy</th>\n",
       "      <th>error_rate</th>\n",
       "      <th>time</th>\n",
       "    </tr>\n",
       "  </thead>\n",
       "  <tbody>\n",
       "    <tr>\n",
       "      <td>0</td>\n",
       "      <td>1.028063</td>\n",
       "      <td>0.704321</td>\n",
       "      <td>0.778297</td>\n",
       "      <td>0.221703</td>\n",
       "      <td>00:27</td>\n",
       "    </tr>\n",
       "    <tr>\n",
       "      <td>1</td>\n",
       "      <td>0.527906</td>\n",
       "      <td>0.348104</td>\n",
       "      <td>0.894365</td>\n",
       "      <td>0.105635</td>\n",
       "      <td>00:28</td>\n",
       "    </tr>\n",
       "    <tr>\n",
       "      <td>2</td>\n",
       "      <td>0.325403</td>\n",
       "      <td>0.215548</td>\n",
       "      <td>0.931415</td>\n",
       "      <td>0.068585</td>\n",
       "      <td>00:28</td>\n",
       "    </tr>\n",
       "    <tr>\n",
       "      <td>3</td>\n",
       "      <td>0.227931</td>\n",
       "      <td>0.148976</td>\n",
       "      <td>0.953597</td>\n",
       "      <td>0.046403</td>\n",
       "      <td>00:28</td>\n",
       "    </tr>\n",
       "    <tr>\n",
       "      <td>4</td>\n",
       "      <td>0.183427</td>\n",
       "      <td>0.131278</td>\n",
       "      <td>0.959592</td>\n",
       "      <td>0.040408</td>\n",
       "      <td>00:28</td>\n",
       "    </tr>\n",
       "    <tr>\n",
       "      <td>5</td>\n",
       "      <td>0.174353</td>\n",
       "      <td>0.127332</td>\n",
       "      <td>0.960791</td>\n",
       "      <td>0.039209</td>\n",
       "      <td>00:28</td>\n",
       "    </tr>\n",
       "  </tbody>\n",
       "</table>"
      ],
      "text/plain": [
       "<IPython.core.display.HTML object>"
      ]
     },
     "metadata": {},
     "output_type": "display_data"
    }
   ],
   "source": [
    "learn.fit_one_cycle(6)"
   ]
  },
  {
   "cell_type": "code",
   "execution_count": 23,
   "metadata": {},
   "outputs": [
    {
     "data": {
      "text/plain": [
       "PosixPath('data/mnist/images/models/resnet18_mnist.pth')"
      ]
     },
     "execution_count": 23,
     "metadata": {},
     "output_type": "execute_result"
    }
   ],
   "source": [
    "learn.save('resnet18_mnist', return_path=True)"
   ]
  },
  {
   "cell_type": "markdown",
   "metadata": {},
   "source": [
    "### Prediction interpretation"
   ]
  },
  {
   "cell_type": "code",
   "execution_count": 185,
   "metadata": {},
   "outputs": [],
   "source": [
    "learn = cnn_learner(dataset, vision_models.resnet34, metrics=[accuracy, error_rate])\n",
    "learn.load('resnet34_mnist');"
   ]
  },
  {
   "cell_type": "code",
   "execution_count": 27,
   "metadata": {},
   "outputs": [],
   "source": [
    "cls_interpreter = ClassificationInterpretation.from_learner(learn)"
   ]
  },
  {
   "cell_type": "code",
   "execution_count": 32,
   "metadata": {},
   "outputs": [
    {
     "data": {
      "image/png": "[encoded data removed]",
      "text/plain": [
       "<Figure size 432x432 with 9 Axes>"
      ]
     },
     "metadata": {
      "needs_background": "light"
     },
     "output_type": "display_data"
    }
   ],
   "source": [
    "cls_interpreter.plot_top_losses(k=9, figsize=(6, 6))"
   ]
  },
  {
   "cell_type": "code",
   "execution_count": 34,
   "metadata": {},
   "outputs": [
    {
     "data": {
      "image/png": "[encoded data removed]",
      "text/plain": [
       "<Figure size 360x360 with 1 Axes>"
      ]
     },
     "metadata": {
      "needs_background": "light"
     },
     "output_type": "display_data"
    }
   ],
   "source": [
    "cls_interpreter.plot_confusion_matrix(figsize=(6, 6), dpi=60)"
   ]
  },
  {
   "cell_type": "code",
   "execution_count": 35,
   "metadata": {},
   "outputs": [
    {
     "data": {
      "text/plain": [
       "[('2', '3', 17),\n",
       " ('8', '5', 14),\n",
       " ('9', '8', 14),\n",
       " ('5', '3', 13),\n",
       " ('2', '8', 12),\n",
       " ('7', '4', 11),\n",
       " ('7', '9', 11),\n",
       " ('4', '9', 9),\n",
       " ('0', '6', 7),\n",
       " ('5', '2', 7),\n",
       " ('6', '5', 7),\n",
       " ('4', '7', 6),\n",
       " ('5', '9', 6),\n",
       " ('7', '3', 6),\n",
       " ('9', '4', 6)]"
      ]
     },
     "execution_count": 35,
     "metadata": {},
     "output_type": "execute_result"
    }
   ],
   "source": [
    "cls_interpreter.most_confused(min_val=6)"
   ]
  },
  {
   "cell_type": "markdown",
   "metadata": {},
   "source": [
    "### Optimizing learning rate"
   ]
  },
  {
   "cell_type": "code",
   "execution_count": 36,
   "metadata": {},
   "outputs": [
    {
     "data": {
      "text/html": [],
      "text/plain": [
       "<IPython.core.display.HTML object>"
      ]
     },
     "metadata": {},
     "output_type": "display_data"
    },
    {
     "name": "stdout",
     "output_type": "stream",
     "text": [
      "LR Finder is complete, type {learner_name}.recorder.plot() to see the graph.\n"
     ]
    }
   ],
   "source": [
    "learn.lr_find()"
   ]
  },
  {
   "cell_type": "code",
   "execution_count": 37,
   "metadata": {},
   "outputs": [
    {
     "data": {
      "image/png": "[encoded data removed]",
      "text/plain": [
       "<Figure size 432x288 with 1 Axes>"
      ]
     },
     "metadata": {
      "needs_background": "light"
     },
     "output_type": "display_data"
    }
   ],
   "source": [
    "learn.recorder.plot()"
   ]
  },
  {
   "cell_type": "code",
   "execution_count": 41,
   "metadata": {},
   "outputs": [
    {
     "data": {
      "text/html": [
       "<table border=\"1\" class=\"dataframe\">\n",
       "  <thead>\n",
       "    <tr style=\"text-align: left;\">\n",
       "      <th>epoch</th>\n",
       "      <th>train_loss</th>\n",
       "      <th>valid_loss</th>\n",
       "      <th>accuracy</th>\n",
       "      <th>error_rate</th>\n",
       "      <th>time</th>\n",
       "    </tr>\n",
       "  </thead>\n",
       "  <tbody>\n",
       "    <tr>\n",
       "      <td>epoch</td>\n",
       "      <td>train_loss</td>\n",
       "      <td>valid_loss</td>\n",
       "      <td>accuracy</td>\n",
       "      <td>error_rate</td>\n",
       "      <td>time</td>\n",
       "    </tr>\n",
       "    <tr>\n",
       "      <td>0</td>\n",
       "      <td>0.106607</td>\n",
       "      <td>0.088940</td>\n",
       "      <td>0.972542</td>\n",
       "      <td>0.027458</td>\n",
       "      <td>00:55</td>\n",
       "    </tr>\n",
       "    <tr>\n",
       "      <td>0</td>\n",
       "      <td>0.106607</td>\n",
       "      <td>0.088940</td>\n",
       "      <td>0.972542</td>\n",
       "      <td>0.027458</td>\n",
       "      <td>00:55</td>\n",
       "    </tr>\n",
       "    <tr>\n",
       "      <td>1</td>\n",
       "      <td>0.075111</td>\n",
       "      <td>0.057520</td>\n",
       "      <td>0.983333</td>\n",
       "      <td>0.016667</td>\n",
       "      <td>00:54</td>\n",
       "    </tr>\n",
       "    <tr>\n",
       "      <td>1</td>\n",
       "      <td>0.075111</td>\n",
       "      <td>0.057520</td>\n",
       "      <td>0.983333</td>\n",
       "      <td>0.016667</td>\n",
       "      <td>00:54</td>\n",
       "    </tr>\n",
       "    <tr>\n",
       "      <td>2</td>\n",
       "      <td>0.048238</td>\n",
       "      <td>0.048072</td>\n",
       "      <td>0.984652</td>\n",
       "      <td>0.015348</td>\n",
       "      <td>00:55</td>\n",
       "    </tr>\n",
       "    <tr>\n",
       "      <td>2</td>\n",
       "      <td>0.048238</td>\n",
       "      <td>0.048072</td>\n",
       "      <td>0.984652</td>\n",
       "      <td>0.015348</td>\n",
       "      <td>00:55</td>\n",
       "    </tr>\n",
       "    <tr>\n",
       "      <td>3</td>\n",
       "      <td>0.024405</td>\n",
       "      <td>0.047467</td>\n",
       "      <td>0.984652</td>\n",
       "      <td>0.015348</td>\n",
       "      <td>00:55</td>\n",
       "    </tr>\n",
       "    <tr>\n",
       "      <td>3</td>\n",
       "      <td>0.024405</td>\n",
       "      <td>0.047467</td>\n",
       "      <td>0.984652</td>\n",
       "      <td>0.015348</td>\n",
       "      <td>00:55</td>\n",
       "    </tr>\n",
       "  </tbody>\n",
       "</table>"
      ],
      "text/plain": [
       "<IPython.core.display.HTML object>"
      ]
     },
     "metadata": {},
     "output_type": "display_data"
    }
   ],
   "source": [
    "learn.unfreeze()\n",
    "learn.fit_one_cycle(4, max_lr=slice(1e-06, 1e-03))"
   ]
  },
  {
   "cell_type": "code",
   "execution_count": 138,
   "metadata": {},
   "outputs": [
    {
     "data": {
      "text/plain": [
       "PosixPath('data/mnist/images/models/resnet34_mnist.pth')"
      ]
     },
     "execution_count": 138,
     "metadata": {},
     "output_type": "execute_result"
    }
   ],
   "source": [
    "learn.save('resnet34_mnist', return_path=True)"
   ]
  },
  {
   "cell_type": "code",
   "execution_count": 139,
   "metadata": {},
   "outputs": [],
   "source": [
    "cls_interpreter = ClassificationInterpretation.from_learner(learn)"
   ]
  },
  {
   "cell_type": "code",
   "execution_count": 140,
   "metadata": {},
   "outputs": [
    {
     "data": {
      "image/png": "[encoded data removed]",
      "text/plain": [
       "<Figure size 360x360 with 1 Axes>"
      ]
     },
     "metadata": {
      "needs_background": "light"
     },
     "output_type": "display_data"
    }
   ],
   "source": [
    "cls_interpreter.plot_confusion_matrix(figsize=(6, 6), dpi=60)"
   ]
  },
  {
   "cell_type": "markdown",
   "metadata": {},
   "source": [
    "### Export learner"
   ]
  },
  {
   "cell_type": "code",
   "execution_count": 148,
   "metadata": {},
   "outputs": [],
   "source": [
    "learn.export('resnet34_mnist.pkl')"
   ]
  },
  {
   "cell_type": "markdown",
   "metadata": {},
   "source": [
    "### Creating submission file"
   ]
  },
  {
   "cell_type": "code",
   "execution_count": 164,
   "metadata": {},
   "outputs": [
    {
     "data": {
      "text/html": [
       "<div>\n",
       "<style scoped>\n",
       "    .dataframe tbody tr th:only-of-type {\n",
       "        vertical-align: middle;\n",
       "    }\n",
       "\n",
       "    .dataframe tbody tr th {\n",
       "        vertical-align: top;\n",
       "    }\n",
       "\n",
       "    .dataframe thead th {\n",
       "        text-align: right;\n",
       "    }\n",
       "</style>\n",
       "<table border=\"1\" class=\"dataframe\">\n",
       "  <thead>\n",
       "    <tr style=\"text-align: right;\">\n",
       "      <th></th>\n",
       "      <th>name</th>\n",
       "      <th>sort_order</th>\n",
       "    </tr>\n",
       "  </thead>\n",
       "  <tbody>\n",
       "    <tr>\n",
       "      <th>0</th>\n",
       "      <td>0.jpg</td>\n",
       "      <td>0</td>\n",
       "    </tr>\n",
       "    <tr>\n",
       "      <th>1</th>\n",
       "      <td>1.jpg</td>\n",
       "      <td>1</td>\n",
       "    </tr>\n",
       "    <tr>\n",
       "      <th>2</th>\n",
       "      <td>2.jpg</td>\n",
       "      <td>2</td>\n",
       "    </tr>\n",
       "    <tr>\n",
       "      <th>3</th>\n",
       "      <td>3.jpg</td>\n",
       "      <td>3</td>\n",
       "    </tr>\n",
       "    <tr>\n",
       "      <th>4</th>\n",
       "      <td>4.jpg</td>\n",
       "      <td>4</td>\n",
       "    </tr>\n",
       "  </tbody>\n",
       "</table>\n",
       "</div>"
      ],
      "text/plain": [
       "    name  sort_order\n",
       "0  0.jpg           0\n",
       "1  1.jpg           1\n",
       "2  2.jpg           2\n",
       "3  3.jpg           3\n",
       "4  4.jpg           4"
      ]
     },
     "execution_count": 164,
     "metadata": {},
     "output_type": "execute_result"
    }
   ],
   "source": [
    "df_test = pd.DataFrame(list(map(lambda f: f.split(os.sep)[-1], glob(str(IMAGE_DATA_PATH/'test/*.jpg')))), columns=['name'])\n",
    "df_test['sort_order'] = df_test['name'].map(lambda f: int(f.split('.')[0]))\n",
    "df_test = df_test.sort_values('sort_order').copy()\n",
    "df_test.reset_index(drop=True, inplace=True)\n",
    "df_test.head()"
   ]
  },
  {
   "cell_type": "code",
   "execution_count": 165,
   "metadata": {},
   "outputs": [
    {
     "data": {
      "text/plain": [
       "ImageList (28000 items)\n",
       "Image (3, 28, 28),Image (3, 28, 28),Image (3, 28, 28),Image (3, 28, 28),Image (3, 28, 28)\n",
       "Path: data/mnist/images/test"
      ]
     },
     "execution_count": 165,
     "metadata": {},
     "output_type": "execute_result"
    }
   ],
   "source": [
    "il_test = ImageList.from_df(df_test, IMAGE_DATA_PATH/'test')\n",
    "il_test"
   ]
  },
  {
   "cell_type": "code",
   "execution_count": 168,
   "metadata": {},
   "outputs": [],
   "source": [
    "# Need to raise GITHUB ISSUE,\n",
    "\n",
    "# learn_final = load_learner(IMAGE_DATA_PATH, file='resnet34_mnist.pkl', test=il_test) \n",
    "# # preds, _ = learner.get_preds(ds_type=DatasetType.Test)\n",
    "\n",
    "# AttributeError                            Traceback (most recent call last)\n",
    "# <ipython-input-160-f5d0e1dd5a47> in <module>\n",
    "# ----> 1 learn_final = load_learner(IMAGE_DATA_PATH, file='resnet34_mnist.pkl', test=il_test)\n",
    "#       2 # preds, _ = learner.get_preds(ds_type=DatasetType.Test)\n",
    "\n",
    "# ~/anaconda3/lib/python3.7/site-packages/fastai/basic_train.py in load_learner(path, file, test, **db_kwargs)\n",
    "#     626     res = clas_func(data, model, **state)\n",
    "#     627     res.callback_fns = state['callback_fns'] #to avoid duplicates\n",
    "# --> 628     res.callbacks = [load_callback(c,s, res) for c,s in cb_state.items()]\n",
    "#     629     return res\n",
    "\n",
    "# ~/anaconda3/lib/python3.7/site-packages/fastai/basic_train.py in <listcomp>(.0)\n",
    "#     626     res = clas_func(data, model, **state)\n",
    "#     627     res.callback_fns = state['callback_fns'] #to avoid duplicates\n",
    "# --> 628     res.callbacks = [load_callback(c,s, res) for c,s in cb_state.items()]\n",
    "#     629     return res\n",
    "\n",
    "# ~/anaconda3/lib/python3.7/site-packages/fastai/basic_train.py in load_callback(class_func, state, learn)\n",
    "#     610 def load_callback(class_func, state, learn:Learner):\n",
    "#     611     init_kwargs, others = split_kwargs_by_func(state, class_func.__init__)\n",
    "# --> 612     res = class_func(learn, **init_kwargs) if issubclass(class_func, LearnerCallback) else class_func(**init_kwargs)\n",
    "#     613     for k,v in others.items(): setattr(res, k, v)\n",
    "#     614     return res\n",
    "\n",
    "# ~/anaconda3/lib/python3.7/site-packages/fastai/basic_train.py in __init__(self, learn, add_time, silent)\n",
    "#     459     def __init__(self, learn:Learner, add_time:bool=True, silent:bool=False):\n",
    "#     460         super().__init__(learn)\n",
    "# --> 461         self.opt = self.learn.opt\n",
    "#     462         self.train_dl = self.learn.data.train_dl\n",
    "#     463         self.no_val,self.silent,self.add_time = False,silent,add_time\n",
    "\n",
    "# AttributeError: 'Learner' object has no attribute 'opt'"
   ]
  },
  {
   "cell_type": "code",
   "execution_count": 172,
   "metadata": {},
   "outputs": [],
   "source": [
    "learn.data.test_ds.x = il_test"
   ]
  },
  {
   "cell_type": "code",
   "execution_count": 173,
   "metadata": {},
   "outputs": [],
   "source": [
    "y_pred_probs, _ = learn.get_preds(DatasetType.Test)"
   ]
  },
  {
   "cell_type": "code",
   "execution_count": 174,
   "metadata": {},
   "outputs": [],
   "source": [
    "y_pred = torch.argmax(y_pred_probs, dim=1)"
   ]
  },
  {
   "cell_type": "code",
   "execution_count": 175,
   "metadata": {},
   "outputs": [
    {
     "data": {
      "text/html": [
       "<div>\n",
       "<style scoped>\n",
       "    .dataframe tbody tr th:only-of-type {\n",
       "        vertical-align: middle;\n",
       "    }\n",
       "\n",
       "    .dataframe tbody tr th {\n",
       "        vertical-align: top;\n",
       "    }\n",
       "\n",
       "    .dataframe thead th {\n",
       "        text-align: right;\n",
       "    }\n",
       "</style>\n",
       "<table border=\"1\" class=\"dataframe\">\n",
       "  <thead>\n",
       "    <tr style=\"text-align: right;\">\n",
       "      <th></th>\n",
       "      <th>Label</th>\n",
       "      <th>ImageId</th>\n",
       "    </tr>\n",
       "  </thead>\n",
       "  <tbody>\n",
       "    <tr>\n",
       "      <th>0</th>\n",
       "      <td>2</td>\n",
       "      <td>1</td>\n",
       "    </tr>\n",
       "    <tr>\n",
       "      <th>1</th>\n",
       "      <td>0</td>\n",
       "      <td>2</td>\n",
       "    </tr>\n",
       "    <tr>\n",
       "      <th>2</th>\n",
       "      <td>9</td>\n",
       "      <td>3</td>\n",
       "    </tr>\n",
       "    <tr>\n",
       "      <th>3</th>\n",
       "      <td>0</td>\n",
       "      <td>4</td>\n",
       "    </tr>\n",
       "    <tr>\n",
       "      <th>4</th>\n",
       "      <td>3</td>\n",
       "      <td>5</td>\n",
       "    </tr>\n",
       "  </tbody>\n",
       "</table>\n",
       "</div>"
      ],
      "text/plain": [
       "   Label  ImageId\n",
       "0      2        1\n",
       "1      0        2\n",
       "2      9        3\n",
       "3      0        4\n",
       "4      3        5"
      ]
     },
     "execution_count": 175,
     "metadata": {},
     "output_type": "execute_result"
    }
   ],
   "source": [
    "df_submission = pd.DataFrame(y_pred.numpy(), columns=['Label'])\n",
    "df_submission['ImageId'] = range(1, df_submission.shape[0] + 1)\n",
    "df_submission.head()"
   ]
  },
  {
   "cell_type": "code",
   "execution_count": 177,
   "metadata": {},
   "outputs": [],
   "source": [
    "df_submission.to_csv(CSV_DATA_PATH/'submission.csv', index=False)"
   ]
  },
  {
   "cell_type": "code",
   "execution_count": null,
   "metadata": {},
   "outputs": [],
   "source": []
  }
 ],
 "metadata": {
  "kernelspec": {
   "display_name": "Python 3",
   "language": "python",
   "name": "python3"
  },
  "language_info": {
   "codemirror_mode": {
    "name": "ipython",
    "version": 3
   },
   "file_extension": ".py",
   "mimetype": "text/x-python",
   "name": "python",
   "nbconvert_exporter": "python",
   "pygments_lexer": "ipython3",
   "version": "3.7.3"
  }
 },
 "nbformat": 4,
 "nbformat_minor": 2
}
